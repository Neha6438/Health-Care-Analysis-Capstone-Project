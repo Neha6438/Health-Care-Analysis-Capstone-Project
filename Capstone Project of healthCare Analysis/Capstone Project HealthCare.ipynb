{
 "cells": [
  {
   "cell_type": "code",
   "execution_count": 1,
   "id": "82472c5f",
   "metadata": {},
   "outputs": [],
   "source": [
    "import pandas as pd\n",
    "import matplotlib.pyplot as plt"
   ]
  },
  {
   "cell_type": "code",
   "execution_count": 2,
   "id": "3f9f39eb",
   "metadata": {},
   "outputs": [],
   "source": [
    "diabetes=pd.read_csv(\"project 2\\\\Healthcare - Diabetes\\\\health care diabetes.csv\")"
   ]
  },
  {
   "cell_type": "code",
   "execution_count": 3,
   "id": "435571d3",
   "metadata": {},
   "outputs": [
    {
     "data": {
      "text/html": [
       "<div>\n",
       "<style scoped>\n",
       "    .dataframe tbody tr th:only-of-type {\n",
       "        vertical-align: middle;\n",
       "    }\n",
       "\n",
       "    .dataframe tbody tr th {\n",
       "        vertical-align: top;\n",
       "    }\n",
       "\n",
       "    .dataframe thead th {\n",
       "        text-align: right;\n",
       "    }\n",
       "</style>\n",
       "<table border=\"1\" class=\"dataframe\">\n",
       "  <thead>\n",
       "    <tr style=\"text-align: right;\">\n",
       "      <th></th>\n",
       "      <th>Pregnancies</th>\n",
       "      <th>Glucose</th>\n",
       "      <th>BloodPressure</th>\n",
       "      <th>SkinThickness</th>\n",
       "      <th>Insulin</th>\n",
       "      <th>BMI</th>\n",
       "      <th>DiabetesPedigreeFunction</th>\n",
       "      <th>Age</th>\n",
       "      <th>Outcome</th>\n",
       "    </tr>\n",
       "  </thead>\n",
       "  <tbody>\n",
       "    <tr>\n",
       "      <th>0</th>\n",
       "      <td>6</td>\n",
       "      <td>148</td>\n",
       "      <td>72</td>\n",
       "      <td>35</td>\n",
       "      <td>0</td>\n",
       "      <td>33.6</td>\n",
       "      <td>0.627</td>\n",
       "      <td>50</td>\n",
       "      <td>1</td>\n",
       "    </tr>\n",
       "    <tr>\n",
       "      <th>1</th>\n",
       "      <td>1</td>\n",
       "      <td>85</td>\n",
       "      <td>66</td>\n",
       "      <td>29</td>\n",
       "      <td>0</td>\n",
       "      <td>26.6</td>\n",
       "      <td>0.351</td>\n",
       "      <td>31</td>\n",
       "      <td>0</td>\n",
       "    </tr>\n",
       "    <tr>\n",
       "      <th>2</th>\n",
       "      <td>8</td>\n",
       "      <td>183</td>\n",
       "      <td>64</td>\n",
       "      <td>0</td>\n",
       "      <td>0</td>\n",
       "      <td>23.3</td>\n",
       "      <td>0.672</td>\n",
       "      <td>32</td>\n",
       "      <td>1</td>\n",
       "    </tr>\n",
       "    <tr>\n",
       "      <th>3</th>\n",
       "      <td>1</td>\n",
       "      <td>89</td>\n",
       "      <td>66</td>\n",
       "      <td>23</td>\n",
       "      <td>94</td>\n",
       "      <td>28.1</td>\n",
       "      <td>0.167</td>\n",
       "      <td>21</td>\n",
       "      <td>0</td>\n",
       "    </tr>\n",
       "    <tr>\n",
       "      <th>4</th>\n",
       "      <td>0</td>\n",
       "      <td>137</td>\n",
       "      <td>40</td>\n",
       "      <td>35</td>\n",
       "      <td>168</td>\n",
       "      <td>43.1</td>\n",
       "      <td>2.288</td>\n",
       "      <td>33</td>\n",
       "      <td>1</td>\n",
       "    </tr>\n",
       "  </tbody>\n",
       "</table>\n",
       "</div>"
      ],
      "text/plain": [
       "   Pregnancies  Glucose  BloodPressure  SkinThickness  Insulin   BMI  \\\n",
       "0            6      148             72             35        0  33.6   \n",
       "1            1       85             66             29        0  26.6   \n",
       "2            8      183             64              0        0  23.3   \n",
       "3            1       89             66             23       94  28.1   \n",
       "4            0      137             40             35      168  43.1   \n",
       "\n",
       "   DiabetesPedigreeFunction  Age  Outcome  \n",
       "0                     0.627   50        1  \n",
       "1                     0.351   31        0  \n",
       "2                     0.672   32        1  \n",
       "3                     0.167   21        0  \n",
       "4                     2.288   33        1  "
      ]
     },
     "execution_count": 3,
     "metadata": {},
     "output_type": "execute_result"
    }
   ],
   "source": [
    "diabetes.head()"
   ]
  },
  {
   "cell_type": "code",
   "execution_count": 4,
   "id": "84d6eed4",
   "metadata": {},
   "outputs": [
    {
     "data": {
      "text/plain": [
       "(768, 9)"
      ]
     },
     "execution_count": 4,
     "metadata": {},
     "output_type": "execute_result"
    }
   ],
   "source": [
    "diabetes.shape"
   ]
  },
  {
   "cell_type": "code",
   "execution_count": 5,
   "id": "3fcb63bc",
   "metadata": {},
   "outputs": [
    {
     "data": {
      "text/plain": [
       "Pregnancies                 0\n",
       "Glucose                     0\n",
       "BloodPressure               0\n",
       "SkinThickness               0\n",
       "Insulin                     0\n",
       "BMI                         0\n",
       "DiabetesPedigreeFunction    0\n",
       "Age                         0\n",
       "Outcome                     0\n",
       "dtype: int64"
      ]
     },
     "execution_count": 5,
     "metadata": {},
     "output_type": "execute_result"
    }
   ],
   "source": [
    "diabetes.isnull().sum()"
   ]
  },
  {
   "cell_type": "code",
   "execution_count": 6,
   "id": "b4a7ccd9",
   "metadata": {},
   "outputs": [],
   "source": [
    "positive=diabetes[diabetes['Outcome']==1]"
   ]
  },
  {
   "cell_type": "code",
   "execution_count": 7,
   "id": "ce69fb67",
   "metadata": {},
   "outputs": [
    {
     "data": {
      "text/html": [
       "<div>\n",
       "<style scoped>\n",
       "    .dataframe tbody tr th:only-of-type {\n",
       "        vertical-align: middle;\n",
       "    }\n",
       "\n",
       "    .dataframe tbody tr th {\n",
       "        vertical-align: top;\n",
       "    }\n",
       "\n",
       "    .dataframe thead th {\n",
       "        text-align: right;\n",
       "    }\n",
       "</style>\n",
       "<table border=\"1\" class=\"dataframe\">\n",
       "  <thead>\n",
       "    <tr style=\"text-align: right;\">\n",
       "      <th></th>\n",
       "      <th>Pregnancies</th>\n",
       "      <th>Glucose</th>\n",
       "      <th>BloodPressure</th>\n",
       "      <th>SkinThickness</th>\n",
       "      <th>Insulin</th>\n",
       "      <th>BMI</th>\n",
       "      <th>DiabetesPedigreeFunction</th>\n",
       "      <th>Age</th>\n",
       "      <th>Outcome</th>\n",
       "    </tr>\n",
       "  </thead>\n",
       "  <tbody>\n",
       "    <tr>\n",
       "      <th>0</th>\n",
       "      <td>6</td>\n",
       "      <td>148</td>\n",
       "      <td>72</td>\n",
       "      <td>35</td>\n",
       "      <td>0</td>\n",
       "      <td>33.6</td>\n",
       "      <td>0.627</td>\n",
       "      <td>50</td>\n",
       "      <td>1</td>\n",
       "    </tr>\n",
       "    <tr>\n",
       "      <th>2</th>\n",
       "      <td>8</td>\n",
       "      <td>183</td>\n",
       "      <td>64</td>\n",
       "      <td>0</td>\n",
       "      <td>0</td>\n",
       "      <td>23.3</td>\n",
       "      <td>0.672</td>\n",
       "      <td>32</td>\n",
       "      <td>1</td>\n",
       "    </tr>\n",
       "    <tr>\n",
       "      <th>4</th>\n",
       "      <td>0</td>\n",
       "      <td>137</td>\n",
       "      <td>40</td>\n",
       "      <td>35</td>\n",
       "      <td>168</td>\n",
       "      <td>43.1</td>\n",
       "      <td>2.288</td>\n",
       "      <td>33</td>\n",
       "      <td>1</td>\n",
       "    </tr>\n",
       "    <tr>\n",
       "      <th>6</th>\n",
       "      <td>3</td>\n",
       "      <td>78</td>\n",
       "      <td>50</td>\n",
       "      <td>32</td>\n",
       "      <td>88</td>\n",
       "      <td>31.0</td>\n",
       "      <td>0.248</td>\n",
       "      <td>26</td>\n",
       "      <td>1</td>\n",
       "    </tr>\n",
       "    <tr>\n",
       "      <th>8</th>\n",
       "      <td>2</td>\n",
       "      <td>197</td>\n",
       "      <td>70</td>\n",
       "      <td>45</td>\n",
       "      <td>543</td>\n",
       "      <td>30.5</td>\n",
       "      <td>0.158</td>\n",
       "      <td>53</td>\n",
       "      <td>1</td>\n",
       "    </tr>\n",
       "  </tbody>\n",
       "</table>\n",
       "</div>"
      ],
      "text/plain": [
       "   Pregnancies  Glucose  BloodPressure  SkinThickness  Insulin   BMI  \\\n",
       "0            6      148             72             35        0  33.6   \n",
       "2            8      183             64              0        0  23.3   \n",
       "4            0      137             40             35      168  43.1   \n",
       "6            3       78             50             32       88  31.0   \n",
       "8            2      197             70             45      543  30.5   \n",
       "\n",
       "   DiabetesPedigreeFunction  Age  Outcome  \n",
       "0                     0.627   50        1  \n",
       "2                     0.672   32        1  \n",
       "4                     2.288   33        1  \n",
       "6                     0.248   26        1  \n",
       "8                     0.158   53        1  "
      ]
     },
     "execution_count": 7,
     "metadata": {},
     "output_type": "execute_result"
    }
   ],
   "source": [
    "positive.head()"
   ]
  },
  {
   "cell_type": "code",
   "execution_count": 8,
   "id": "defc1417",
   "metadata": {},
   "outputs": [
    {
     "data": {
      "text/plain": [
       "268"
      ]
     },
     "execution_count": 8,
     "metadata": {},
     "output_type": "execute_result"
    }
   ],
   "source": [
    "positive.value_counts().sum()"
   ]
  },
  {
   "cell_type": "code",
   "execution_count": 9,
   "id": "fd837af1",
   "metadata": {},
   "outputs": [
    {
     "data": {
      "text/plain": [
       "0    500\n",
       "1    268\n",
       "Name: Outcome, dtype: int64"
      ]
     },
     "execution_count": 9,
     "metadata": {},
     "output_type": "execute_result"
    }
   ],
   "source": [
    "diabetes['Outcome'].value_counts()"
   ]
  },
  {
   "cell_type": "code",
   "execution_count": 10,
   "id": "bbef8af2",
   "metadata": {},
   "outputs": [
    {
     "data": {
      "text/plain": [
       "99     17\n",
       "100    17\n",
       "111    14\n",
       "129    14\n",
       "125    14\n",
       "Name: Glucose, dtype: int64"
      ]
     },
     "execution_count": 10,
     "metadata": {},
     "output_type": "execute_result"
    }
   ],
   "source": [
    "diabetes['Glucose'].value_counts().head()"
   ]
  },
  {
   "cell_type": "code",
   "execution_count": 11,
   "id": "c639fa1a",
   "metadata": {},
   "outputs": [
    {
     "data": {
      "text/plain": [
       "(array([  5.,   0.,   4.,  32., 156., 211., 163.,  95.,  56.,  46.]),\n",
       " array([  0. ,  19.9,  39.8,  59.7,  79.6,  99.5, 119.4, 139.3, 159.2,\n",
       "        179.1, 199. ]),\n",
       " <BarContainer object of 10 artists>)"
      ]
     },
     "execution_count": 11,
     "metadata": {},
     "output_type": "execute_result"
    },
    {
     "data": {
      "image/png": "[encoded data removed]",
      "text/plain": [
       "<Figure size 432x288 with 1 Axes>"
      ]
     },
     "metadata": {
      "needs_background": "light"
     },
     "output_type": "display_data"
    }
   ],
   "source": [
    "plt.hist(diabetes['Glucose'])"
   ]
  },
  {
   "cell_type": "code",
   "execution_count": 12,
   "id": "34f8fb21",
   "metadata": {},
   "outputs": [
    {
     "data": {
      "text/plain": [
       "70    57\n",
       "74    52\n",
       "78    45\n",
       "68    45\n",
       "72    44\n",
       "Name: BloodPressure, dtype: int64"
      ]
     },
     "execution_count": 12,
     "metadata": {},
     "output_type": "execute_result"
    }
   ],
   "source": [
    "diabetes['BloodPressure'].value_counts().head()"
   ]
  },
  {
   "cell_type": "code",
   "execution_count": 13,
   "id": "6753667b",
   "metadata": {},
   "outputs": [
    {
     "data": {
      "text/plain": [
       "(array([ 35.,   1.,   2.,  13., 107., 261., 243.,  87.,  14.,   5.]),\n",
       " array([  0. ,  12.2,  24.4,  36.6,  48.8,  61. ,  73.2,  85.4,  97.6,\n",
       "        109.8, 122. ]),\n",
       " <BarContainer object of 10 artists>)"
      ]
     },
     "execution_count": 13,
     "metadata": {},
     "output_type": "execute_result"
    },
    {
     "data": {
      "image/png": "[encoded data removed]",
      "text/plain": [
       "<Figure size 432x288 with 1 Axes>"
      ]
     },
     "metadata": {
      "needs_background": "light"
     },
     "output_type": "display_data"
    }
   ],
   "source": [
    "plt.hist(diabetes['BloodPressure'])"
   ]
  },
  {
   "cell_type": "code",
   "execution_count": 14,
   "id": "df961fcb",
   "metadata": {},
   "outputs": [
    {
     "data": {
      "text/plain": [
       "0     227\n",
       "32     31\n",
       "30     27\n",
       "27     23\n",
       "23     22\n",
       "Name: SkinThickness, dtype: int64"
      ]
     },
     "execution_count": 14,
     "metadata": {},
     "output_type": "execute_result"
    }
   ],
   "source": [
    "diabetes['SkinThickness'].value_counts().head()"
   ]
  },
  {
   "cell_type": "code",
   "execution_count": 15,
   "id": "d741f8d6",
   "metadata": {},
   "outputs": [
    {
     "data": {
      "text/plain": [
       "(array([231., 107., 165., 175.,  78.,   9.,   2.,   0.,   0.,   1.]),\n",
       " array([ 0. ,  9.9, 19.8, 29.7, 39.6, 49.5, 59.4, 69.3, 79.2, 89.1, 99. ]),\n",
       " <BarContainer object of 10 artists>)"
      ]
     },
     "execution_count": 15,
     "metadata": {},
     "output_type": "execute_result"
    },
    {
     "data": {
      "image/png": "[encoded data removed]",
      "text/plain": [
       "<Figure size 432x288 with 1 Axes>"
      ]
     },
     "metadata": {
      "needs_background": "light"
     },
     "output_type": "display_data"
    }
   ],
   "source": [
    "plt.hist(diabetes['SkinThickness'])"
   ]
  },
  {
   "cell_type": "code",
   "execution_count": 16,
   "id": "405ba312",
   "metadata": {},
   "outputs": [
    {
     "data": {
      "text/plain": [
       "0      374\n",
       "105     11\n",
       "130      9\n",
       "140      9\n",
       "120      8\n",
       "Name: Insulin, dtype: int64"
      ]
     },
     "execution_count": 16,
     "metadata": {},
     "output_type": "execute_result"
    }
   ],
   "source": [
    "diabetes['Insulin'].value_counts().head()"
   ]
  },
  {
   "cell_type": "code",
   "execution_count": 17,
   "id": "108c9de7",
   "metadata": {},
   "outputs": [
    {
     "data": {
      "text/plain": [
       "(array([487., 155.,  70.,  30.,   8.,   9.,   5.,   1.,   2.,   1.]),\n",
       " array([  0. ,  84.6, 169.2, 253.8, 338.4, 423. , 507.6, 592.2, 676.8,\n",
       "        761.4, 846. ]),\n",
       " <BarContainer object of 10 artists>)"
      ]
     },
     "execution_count": 17,
     "metadata": {},
     "output_type": "execute_result"
    },
    {
     "data": {
      "image/png": "[encoded data removed]",
      "text/plain": [
       "<Figure size 432x288 with 1 Axes>"
      ]
     },
     "metadata": {
      "needs_background": "light"
     },
     "output_type": "display_data"
    }
   ],
   "source": [
    "plt.hist(diabetes['Insulin'])"
   ]
  },
  {
   "cell_type": "code",
   "execution_count": 18,
   "id": "ceb05d4d",
   "metadata": {},
   "outputs": [
    {
     "data": {
      "text/plain": [
       "32.0    13\n",
       "31.6    12\n",
       "31.2    12\n",
       "0.0     11\n",
       "32.4    10\n",
       "Name: BMI, dtype: int64"
      ]
     },
     "execution_count": 18,
     "metadata": {},
     "output_type": "execute_result"
    }
   ],
   "source": [
    "diabetes['BMI'].value_counts().head()"
   ]
  },
  {
   "cell_type": "code",
   "execution_count": 19,
   "id": "5f47a121",
   "metadata": {},
   "outputs": [
    {
     "data": {
      "text/plain": [
       "(array([ 11.,   0.,  15., 156., 268., 224.,  78.,  12.,   3.,   1.]),\n",
       " array([ 0.  ,  6.71, 13.42, 20.13, 26.84, 33.55, 40.26, 46.97, 53.68,\n",
       "        60.39, 67.1 ]),\n",
       " <BarContainer object of 10 artists>)"
      ]
     },
     "execution_count": 19,
     "metadata": {},
     "output_type": "execute_result"
    },
    {
     "data": {
      "image/png": "[encoded data removed]",
      "text/plain": [
       "<Figure size 432x288 with 1 Axes>"
      ]
     },
     "metadata": {
      "needs_background": "light"
     },
     "output_type": "display_data"
    }
   ],
   "source": [
    "plt.hist(diabetes['BMI'])"
   ]
  },
  {
   "cell_type": "code",
   "execution_count": 20,
   "id": "46d6bf96",
   "metadata": {},
   "outputs": [
    {
     "data": {
      "text/html": [
       "<div>\n",
       "<style scoped>\n",
       "    .dataframe tbody tr th:only-of-type {\n",
       "        vertical-align: middle;\n",
       "    }\n",
       "\n",
       "    .dataframe tbody tr th {\n",
       "        vertical-align: top;\n",
       "    }\n",
       "\n",
       "    .dataframe thead th {\n",
       "        text-align: right;\n",
       "    }\n",
       "</style>\n",
       "<table border=\"1\" class=\"dataframe\">\n",
       "  <thead>\n",
       "    <tr style=\"text-align: right;\">\n",
       "      <th></th>\n",
       "      <th>count</th>\n",
       "      <th>mean</th>\n",
       "      <th>std</th>\n",
       "      <th>min</th>\n",
       "      <th>25%</th>\n",
       "      <th>50%</th>\n",
       "      <th>75%</th>\n",
       "      <th>max</th>\n",
       "    </tr>\n",
       "  </thead>\n",
       "  <tbody>\n",
       "    <tr>\n",
       "      <th>Pregnancies</th>\n",
       "      <td>768.0</td>\n",
       "      <td>3.845052</td>\n",
       "      <td>3.369578</td>\n",
       "      <td>0.000</td>\n",
       "      <td>1.00000</td>\n",
       "      <td>3.0000</td>\n",
       "      <td>6.00000</td>\n",
       "      <td>17.00</td>\n",
       "    </tr>\n",
       "    <tr>\n",
       "      <th>Glucose</th>\n",
       "      <td>768.0</td>\n",
       "      <td>120.894531</td>\n",
       "      <td>31.972618</td>\n",
       "      <td>0.000</td>\n",
       "      <td>99.00000</td>\n",
       "      <td>117.0000</td>\n",
       "      <td>140.25000</td>\n",
       "      <td>199.00</td>\n",
       "    </tr>\n",
       "    <tr>\n",
       "      <th>BloodPressure</th>\n",
       "      <td>768.0</td>\n",
       "      <td>69.105469</td>\n",
       "      <td>19.355807</td>\n",
       "      <td>0.000</td>\n",
       "      <td>62.00000</td>\n",
       "      <td>72.0000</td>\n",
       "      <td>80.00000</td>\n",
       "      <td>122.00</td>\n",
       "    </tr>\n",
       "    <tr>\n",
       "      <th>SkinThickness</th>\n",
       "      <td>768.0</td>\n",
       "      <td>20.536458</td>\n",
       "      <td>15.952218</td>\n",
       "      <td>0.000</td>\n",
       "      <td>0.00000</td>\n",
       "      <td>23.0000</td>\n",
       "      <td>32.00000</td>\n",
       "      <td>99.00</td>\n",
       "    </tr>\n",
       "    <tr>\n",
       "      <th>Insulin</th>\n",
       "      <td>768.0</td>\n",
       "      <td>79.799479</td>\n",
       "      <td>115.244002</td>\n",
       "      <td>0.000</td>\n",
       "      <td>0.00000</td>\n",
       "      <td>30.5000</td>\n",
       "      <td>127.25000</td>\n",
       "      <td>846.00</td>\n",
       "    </tr>\n",
       "    <tr>\n",
       "      <th>BMI</th>\n",
       "      <td>768.0</td>\n",
       "      <td>31.992578</td>\n",
       "      <td>7.884160</td>\n",
       "      <td>0.000</td>\n",
       "      <td>27.30000</td>\n",
       "      <td>32.0000</td>\n",
       "      <td>36.60000</td>\n",
       "      <td>67.10</td>\n",
       "    </tr>\n",
       "    <tr>\n",
       "      <th>DiabetesPedigreeFunction</th>\n",
       "      <td>768.0</td>\n",
       "      <td>0.471876</td>\n",
       "      <td>0.331329</td>\n",
       "      <td>0.078</td>\n",
       "      <td>0.24375</td>\n",
       "      <td>0.3725</td>\n",
       "      <td>0.62625</td>\n",
       "      <td>2.42</td>\n",
       "    </tr>\n",
       "    <tr>\n",
       "      <th>Age</th>\n",
       "      <td>768.0</td>\n",
       "      <td>33.240885</td>\n",
       "      <td>11.760232</td>\n",
       "      <td>21.000</td>\n",
       "      <td>24.00000</td>\n",
       "      <td>29.0000</td>\n",
       "      <td>41.00000</td>\n",
       "      <td>81.00</td>\n",
       "    </tr>\n",
       "    <tr>\n",
       "      <th>Outcome</th>\n",
       "      <td>768.0</td>\n",
       "      <td>0.348958</td>\n",
       "      <td>0.476951</td>\n",
       "      <td>0.000</td>\n",
       "      <td>0.00000</td>\n",
       "      <td>0.0000</td>\n",
       "      <td>1.00000</td>\n",
       "      <td>1.00</td>\n",
       "    </tr>\n",
       "  </tbody>\n",
       "</table>\n",
       "</div>"
      ],
      "text/plain": [
       "                          count        mean         std     min       25%  \\\n",
       "Pregnancies               768.0    3.845052    3.369578   0.000   1.00000   \n",
       "Glucose                   768.0  120.894531   31.972618   0.000  99.00000   \n",
       "BloodPressure             768.0   69.105469   19.355807   0.000  62.00000   \n",
       "SkinThickness             768.0   20.536458   15.952218   0.000   0.00000   \n",
       "Insulin                   768.0   79.799479  115.244002   0.000   0.00000   \n",
       "BMI                       768.0   31.992578    7.884160   0.000  27.30000   \n",
       "DiabetesPedigreeFunction  768.0    0.471876    0.331329   0.078   0.24375   \n",
       "Age                       768.0   33.240885   11.760232  21.000  24.00000   \n",
       "Outcome                   768.0    0.348958    0.476951   0.000   0.00000   \n",
       "\n",
       "                               50%        75%     max  \n",
       "Pregnancies                 3.0000    6.00000   17.00  \n",
       "Glucose                   117.0000  140.25000  199.00  \n",
       "BloodPressure              72.0000   80.00000  122.00  \n",
       "SkinThickness              23.0000   32.00000   99.00  \n",
       "Insulin                    30.5000  127.25000  846.00  \n",
       "BMI                        32.0000   36.60000   67.10  \n",
       "DiabetesPedigreeFunction    0.3725    0.62625    2.42  \n",
       "Age                        29.0000   41.00000   81.00  \n",
       "Outcome                     0.0000    1.00000    1.00  "
      ]
     },
     "execution_count": 20,
     "metadata": {},
     "output_type": "execute_result"
    }
   ],
   "source": [
    "#transpose() function changes the row elements into column elements and the column elements into row elements.\n",
    "diabetes.describe().transpose()"
   ]
  },
  {
   "cell_type": "markdown",
   "id": "3f8792de",
   "metadata": {},
   "source": [
    "# Week 2 Projects"
   ]
  },
  {
   "cell_type": "code",
   "execution_count": 21,
   "id": "09592658",
   "metadata": {},
   "outputs": [
    {
     "data": {
      "text/plain": [
       "125    7\n",
       "128    6\n",
       "129    6\n",
       "115    6\n",
       "158    6\n",
       "Name: Glucose, dtype: int64"
      ]
     },
     "execution_count": 21,
     "metadata": {},
     "output_type": "execute_result"
    }
   ],
   "source": [
    "positive['Glucose'].value_counts().head()"
   ]
  },
  {
   "cell_type": "code",
   "execution_count": 22,
   "id": "1d6ac356",
   "metadata": {},
   "outputs": [
    {
     "data": {
      "text/plain": [
       "(array([ 2.,  0.,  0.,  0.,  0.,  0.,  0.,  1.,  4.,  9., 28., 26., 36.,\n",
       "        27., 29., 22., 24., 21., 25., 14.]),\n",
       " array([  0.  ,   9.95,  19.9 ,  29.85,  39.8 ,  49.75,  59.7 ,  69.65,\n",
       "         79.6 ,  89.55,  99.5 , 109.45, 119.4 , 129.35, 139.3 , 149.25,\n",
       "        159.2 , 169.15, 179.1 , 189.05, 199.  ]),\n",
       " [<matplotlib.patches.Polygon at 0x16fc5a08610>])"
      ]
     },
     "execution_count": 22,
     "metadata": {},
     "output_type": "execute_result"
    },
    {
     "data": {
      "image/png": "[encoded data removed]",
      "text/plain": [
       "<Figure size 432x288 with 1 Axes>"
      ]
     },
     "metadata": {
      "needs_background": "light"
     },
     "output_type": "display_data"
    }
   ],
   "source": [
    "plt.hist(positive['Glucose'],histtype='stepfilled',bins=20)"
   ]
  },
  {
   "cell_type": "code",
   "execution_count": 23,
   "id": "d9ebbf97",
   "metadata": {},
   "outputs": [
    {
     "data": {
      "text/plain": [
       "70    23\n",
       "76    18\n",
       "78    17\n",
       "74    17\n",
       "72    16\n",
       "Name: BloodPressure, dtype: int64"
      ]
     },
     "execution_count": 23,
     "metadata": {},
     "output_type": "execute_result"
    }
   ],
   "source": [
    "positive['BloodPressure'].value_counts().head()"
   ]
  },
  {
   "cell_type": "code",
   "execution_count": 24,
   "id": "3908a347",
   "metadata": {},
   "outputs": [
    {
     "data": {
      "text/plain": [
       "(array([16.,  0.,  0.,  0.,  0.,  1.,  0.,  1.,  6.,  6., 19., 37., 56.,\n",
       "        36., 41., 31.,  7.,  4.,  4.,  3.]),\n",
       " array([  0. ,   5.7,  11.4,  17.1,  22.8,  28.5,  34.2,  39.9,  45.6,\n",
       "         51.3,  57. ,  62.7,  68.4,  74.1,  79.8,  85.5,  91.2,  96.9,\n",
       "        102.6, 108.3, 114. ]),\n",
       " [<matplotlib.patches.Polygon at 0x16fc5a80130>])"
      ]
     },
     "execution_count": 24,
     "metadata": {},
     "output_type": "execute_result"
    },
    {
     "data": {
      "image/png": "[encoded data removed]",
      "text/plain": [
       "<Figure size 432x288 with 1 Axes>"
      ]
     },
     "metadata": {
      "needs_background": "light"
     },
     "output_type": "display_data"
    }
   ],
   "source": [
    "plt.hist(positive['BloodPressure'],histtype='stepfilled',bins=20)"
   ]
  },
  {
   "cell_type": "code",
   "execution_count": 25,
   "id": "17f0d873",
   "metadata": {},
   "outputs": [
    {
     "data": {
      "text/plain": [
       "(array([88.,  1.,  4., 10., 18., 30., 41., 34., 23., 15.,  1.,  1.,  1.,\n",
       "         0.,  0.,  0.,  0.,  0.,  0.,  1.]),\n",
       " array([ 0.  ,  4.95,  9.9 , 14.85, 19.8 , 24.75, 29.7 , 34.65, 39.6 ,\n",
       "        44.55, 49.5 , 54.45, 59.4 , 64.35, 69.3 , 74.25, 79.2 , 84.15,\n",
       "        89.1 , 94.05, 99.  ]),\n",
       " [<matplotlib.patches.Polygon at 0x16fc5ad0eb0>])"
      ]
     },
     "execution_count": 25,
     "metadata": {},
     "output_type": "execute_result"
    },
    {
     "data": {
      "image/png": "[encoded data removed]",
      "text/plain": [
       "<Figure size 432x288 with 1 Axes>"
      ]
     },
     "metadata": {
      "needs_background": "light"
     },
     "output_type": "display_data"
    }
   ],
   "source": [
    "plt.hist(positive['SkinThickness'],histtype='stepfilled',bins=20)"
   ]
  },
  {
   "cell_type": "code",
   "execution_count": 26,
   "id": "9085b149",
   "metadata": {},
   "outputs": [
    {
     "data": {
      "text/plain": [
       "0     88\n",
       "32    14\n",
       "30     9\n",
       "33     9\n",
       "39     8\n",
       "Name: SkinThickness, dtype: int64"
      ]
     },
     "execution_count": 26,
     "metadata": {},
     "output_type": "execute_result"
    }
   ],
   "source": [
    "positive['SkinThickness'].value_counts().head()"
   ]
  },
  {
   "cell_type": "code",
   "execution_count": 27,
   "id": "6fdfb81d",
   "metadata": {
    "scrolled": true
   },
   "outputs": [
    {
     "data": {
      "text/plain": [
       "(array([88.,  1.,  4., 10., 18., 30., 41., 34., 23., 15.,  1.,  1.,  1.,\n",
       "         0.,  0.,  0.,  0.,  0.,  0.,  1.]),\n",
       " array([ 0.  ,  4.95,  9.9 , 14.85, 19.8 , 24.75, 29.7 , 34.65, 39.6 ,\n",
       "        44.55, 49.5 , 54.45, 59.4 , 64.35, 69.3 , 74.25, 79.2 , 84.15,\n",
       "        89.1 , 94.05, 99.  ]),\n",
       " [<matplotlib.patches.Polygon at 0x16fc5b2de80>])"
      ]
     },
     "execution_count": 27,
     "metadata": {},
     "output_type": "execute_result"
    },
    {
     "data": {
      "image/png": "[encoded data removed]",
      "text/plain": [
       "<Figure size 432x288 with 1 Axes>"
      ]
     },
     "metadata": {
      "needs_background": "light"
     },
     "output_type": "display_data"
    }
   ],
   "source": [
    "plt.hist(positive['SkinThickness'],histtype='stepfilled',bins=20)"
   ]
  },
  {
   "cell_type": "code",
   "execution_count": 28,
   "id": "8a9cd1b2",
   "metadata": {},
   "outputs": [
    {
     "data": {
      "text/plain": [
       "0      138\n",
       "130      6\n",
       "180      4\n",
       "175      3\n",
       "156      3\n",
       "Name: Insulin, dtype: int64"
      ]
     },
     "execution_count": 28,
     "metadata": {},
     "output_type": "execute_result"
    }
   ],
   "source": [
    "positive['Insulin'].value_counts().head()"
   ]
  },
  {
   "cell_type": "code",
   "execution_count": 29,
   "id": "9de52d2e",
   "metadata": {},
   "outputs": [
    {
     "data": {
      "text/plain": [
       "(array([141.,   6.,  23.,  33.,  24.,  12.,   7.,   7.,   2.,   1.,   1.,\n",
       "          5.,   3.,   1.,   1.,   0.,   0.,   0.,   0.,   1.]),\n",
       " array([  0. ,  42.3,  84.6, 126.9, 169.2, 211.5, 253.8, 296.1, 338.4,\n",
       "        380.7, 423. , 465.3, 507.6, 549.9, 592.2, 634.5, 676.8, 719.1,\n",
       "        761.4, 803.7, 846. ]),\n",
       " [<matplotlib.patches.Polygon at 0x16fc5b89970>])"
      ]
     },
     "execution_count": 29,
     "metadata": {},
     "output_type": "execute_result"
    },
    {
     "data": {
      "image/png": "[encoded data removed]",
      "text/plain": [
       "<Figure size 432x288 with 1 Axes>"
      ]
     },
     "metadata": {
      "needs_background": "light"
     },
     "output_type": "display_data"
    }
   ],
   "source": [
    "plt.hist(positive['Insulin'],histtype='stepfilled',bins=20)"
   ]
  },
  {
   "cell_type": "code",
   "execution_count": 30,
   "id": "be2c11e5",
   "metadata": {},
   "outputs": [
    {
     "data": {
      "text/plain": [
       "(array([ 2.,  0.,  0.,  0.,  0.,  0.,  3., 13., 38., 61., 61., 36., 27.,\n",
       "        14.,  7.,  3.,  1.,  1.,  0.,  1.]),\n",
       " array([ 0.   ,  3.355,  6.71 , 10.065, 13.42 , 16.775, 20.13 , 23.485,\n",
       "        26.84 , 30.195, 33.55 , 36.905, 40.26 , 43.615, 46.97 , 50.325,\n",
       "        53.68 , 57.035, 60.39 , 63.745, 67.1  ]),\n",
       " [<matplotlib.patches.Polygon at 0x16fc5bf3370>])"
      ]
     },
     "execution_count": 30,
     "metadata": {},
     "output_type": "execute_result"
    },
    {
     "data": {
      "image/png": "[encoded data removed]",
      "text/plain": [
       "<Figure size 432x288 with 1 Axes>"
      ]
     },
     "metadata": {
      "needs_background": "light"
     },
     "output_type": "display_data"
    }
   ],
   "source": [
    "plt.hist(positive['BMI'],histtype='stepfilled',bins=20)"
   ]
  },
  {
   "cell_type": "code",
   "execution_count": 31,
   "id": "2a666b5d",
   "metadata": {},
   "outputs": [],
   "source": [
    "glucose=positive['Glucose']\n",
    "skinthickness=positive['SkinThickness']\n",
    "bloodPressure=positive['BloodPressure']\n",
    "insulin=positive['Insulin']\n",
    "BMI=positive['BMI']"
   ]
  },
  {
   "cell_type": "code",
   "execution_count": 32,
   "id": "c1880a1a",
   "metadata": {},
   "outputs": [
    {
     "ename": "NameError",
     "evalue": "name 'BloodPressure' is not defined",
     "output_type": "error",
     "traceback": [
      "\u001b[1;31m---------------------------------------------------------------------------\u001b[0m",
      "\u001b[1;31mNameError\u001b[0m                                 Traceback (most recent call last)",
      "\u001b[1;32m~\\AppData\\Local\\Temp/ipykernel_3280/1506141083.py\u001b[0m in \u001b[0;36m<module>\u001b[1;34m\u001b[0m\n\u001b[1;32m----> 1\u001b[1;33m \u001b[0mplt\u001b[0m\u001b[1;33m.\u001b[0m\u001b[0mscatter\u001b[0m\u001b[1;33m(\u001b[0m\u001b[0mBloodPressure\u001b[0m\u001b[1;33m,\u001b[0m \u001b[0mGlucose\u001b[0m\u001b[1;33m,\u001b[0m \u001b[0mcolor\u001b[0m\u001b[1;33m=\u001b[0m\u001b[1;33m[\u001b[0m\u001b[1;34m'b'\u001b[0m\u001b[1;33m]\u001b[0m\u001b[1;33m)\u001b[0m\u001b[1;33m\u001b[0m\u001b[1;33m\u001b[0m\u001b[0m\n\u001b[0m\u001b[0;32m      2\u001b[0m \u001b[0mplt\u001b[0m\u001b[1;33m.\u001b[0m\u001b[0mxlabel\u001b[0m\u001b[1;33m(\u001b[0m\u001b[1;34m'BloodPressure'\u001b[0m\u001b[1;33m)\u001b[0m\u001b[1;33m\u001b[0m\u001b[1;33m\u001b[0m\u001b[0m\n\u001b[0;32m      3\u001b[0m \u001b[0mplt\u001b[0m\u001b[1;33m.\u001b[0m\u001b[0mylabel\u001b[0m\u001b[1;33m(\u001b[0m\u001b[1;34m'Glucose'\u001b[0m\u001b[1;33m)\u001b[0m\u001b[1;33m\u001b[0m\u001b[1;33m\u001b[0m\u001b[0m\n\u001b[0;32m      4\u001b[0m \u001b[0mplt\u001b[0m\u001b[1;33m.\u001b[0m\u001b[0mtitle\u001b[0m\u001b[1;33m(\u001b[0m\u001b[1;34m'BloodPressure & Glucose'\u001b[0m\u001b[1;33m)\u001b[0m\u001b[1;33m\u001b[0m\u001b[1;33m\u001b[0m\u001b[0m\n\u001b[0;32m      5\u001b[0m \u001b[0mplt\u001b[0m\u001b[1;33m.\u001b[0m\u001b[0mshow\u001b[0m\u001b[1;33m(\u001b[0m\u001b[1;33m)\u001b[0m\u001b[1;33m\u001b[0m\u001b[1;33m\u001b[0m\u001b[0m\n",
      "\u001b[1;31mNameError\u001b[0m: name 'BloodPressure' is not defined"
     ]
    }
   ],
   "source": [
    "plt.scatter(BloodPressure, Glucose, color=['b'])\n",
    "plt.xlabel('BloodPressure')\n",
    "plt.ylabel('Glucose')\n",
    "plt.title('BloodPressure & Glucose')\n",
    "plt.show()"
   ]
  },
  {
   "cell_type": "code",
   "execution_count": 33,
   "id": "c58c37f8",
   "metadata": {},
   "outputs": [],
   "source": [
    "import seaborn as sns"
   ]
  },
  {
   "cell_type": "code",
   "execution_count": 34,
   "id": "4c263616",
   "metadata": {},
   "outputs": [
    {
     "data": {
      "image/png": "[encoded data removed]",
      "text/plain": [
       "<Figure size 432x288 with 1 Axes>"
      ]
     },
     "metadata": {
      "needs_background": "light"
     },
     "output_type": "display_data"
    }
   ],
   "source": [
    "glucose=sns.scatterplot(x='Glucose',y='BloodPressure',hue='Outcome',data=diabetes)"
   ]
  },
  {
   "cell_type": "code",
   "execution_count": 35,
   "id": "399b889a",
   "metadata": {},
   "outputs": [
    {
     "data": {
      "image/png": "[encoded data removed]",
      "text/plain": [
       "<Figure size 432x288 with 1 Axes>"
      ]
     },
     "metadata": {
      "needs_background": "light"
     },
     "output_type": "display_data"
    }
   ],
   "source": [
    "insulin=sns.scatterplot(x='Insulin',y='BMI',hue='Outcome',data=diabetes)"
   ]
  },
  {
   "cell_type": "code",
   "execution_count": 36,
   "id": "a28b6a91",
   "metadata": {},
   "outputs": [
    {
     "data": {
      "image/png": "[encoded data removed]",
      "text/plain": [
       "<Figure size 432x288 with 1 Axes>"
      ]
     },
     "metadata": {
      "needs_background": "light"
     },
     "output_type": "display_data"
    }
   ],
   "source": [
    "BMI=sns.scatterplot(x='Glucose',y='BMI',hue='Outcome',data=diabetes)"
   ]
  },
  {
   "cell_type": "markdown",
   "id": "688ad51f",
   "metadata": {},
   "source": [
    "# Correlation Matix"
   ]
  },
  {
   "cell_type": "code",
   "execution_count": 37,
   "id": "55b49496",
   "metadata": {},
   "outputs": [
    {
     "data": {
      "text/html": [
       "<div>\n",
       "<style scoped>\n",
       "    .dataframe tbody tr th:only-of-type {\n",
       "        vertical-align: middle;\n",
       "    }\n",
       "\n",
       "    .dataframe tbody tr th {\n",
       "        vertical-align: top;\n",
       "    }\n",
       "\n",
       "    .dataframe thead th {\n",
       "        text-align: right;\n",
       "    }\n",
       "</style>\n",
       "<table border=\"1\" class=\"dataframe\">\n",
       "  <thead>\n",
       "    <tr style=\"text-align: right;\">\n",
       "      <th></th>\n",
       "      <th>Pregnancies</th>\n",
       "      <th>Glucose</th>\n",
       "      <th>BloodPressure</th>\n",
       "      <th>SkinThickness</th>\n",
       "      <th>Insulin</th>\n",
       "      <th>BMI</th>\n",
       "      <th>DiabetesPedigreeFunction</th>\n",
       "      <th>Age</th>\n",
       "      <th>Outcome</th>\n",
       "    </tr>\n",
       "  </thead>\n",
       "  <tbody>\n",
       "    <tr>\n",
       "      <th>Pregnancies</th>\n",
       "      <td>1.000000</td>\n",
       "      <td>0.129459</td>\n",
       "      <td>0.141282</td>\n",
       "      <td>-0.081672</td>\n",
       "      <td>-0.073535</td>\n",
       "      <td>0.017683</td>\n",
       "      <td>-0.033523</td>\n",
       "      <td>0.544341</td>\n",
       "      <td>0.221898</td>\n",
       "    </tr>\n",
       "    <tr>\n",
       "      <th>Glucose</th>\n",
       "      <td>0.129459</td>\n",
       "      <td>1.000000</td>\n",
       "      <td>0.152590</td>\n",
       "      <td>0.057328</td>\n",
       "      <td>0.331357</td>\n",
       "      <td>0.221071</td>\n",
       "      <td>0.137337</td>\n",
       "      <td>0.263514</td>\n",
       "      <td>0.466581</td>\n",
       "    </tr>\n",
       "    <tr>\n",
       "      <th>BloodPressure</th>\n",
       "      <td>0.141282</td>\n",
       "      <td>0.152590</td>\n",
       "      <td>1.000000</td>\n",
       "      <td>0.207371</td>\n",
       "      <td>0.088933</td>\n",
       "      <td>0.281805</td>\n",
       "      <td>0.041265</td>\n",
       "      <td>0.239528</td>\n",
       "      <td>0.065068</td>\n",
       "    </tr>\n",
       "    <tr>\n",
       "      <th>SkinThickness</th>\n",
       "      <td>-0.081672</td>\n",
       "      <td>0.057328</td>\n",
       "      <td>0.207371</td>\n",
       "      <td>1.000000</td>\n",
       "      <td>0.436783</td>\n",
       "      <td>0.392573</td>\n",
       "      <td>0.183928</td>\n",
       "      <td>-0.113970</td>\n",
       "      <td>0.074752</td>\n",
       "    </tr>\n",
       "    <tr>\n",
       "      <th>Insulin</th>\n",
       "      <td>-0.073535</td>\n",
       "      <td>0.331357</td>\n",
       "      <td>0.088933</td>\n",
       "      <td>0.436783</td>\n",
       "      <td>1.000000</td>\n",
       "      <td>0.197859</td>\n",
       "      <td>0.185071</td>\n",
       "      <td>-0.042163</td>\n",
       "      <td>0.130548</td>\n",
       "    </tr>\n",
       "    <tr>\n",
       "      <th>BMI</th>\n",
       "      <td>0.017683</td>\n",
       "      <td>0.221071</td>\n",
       "      <td>0.281805</td>\n",
       "      <td>0.392573</td>\n",
       "      <td>0.197859</td>\n",
       "      <td>1.000000</td>\n",
       "      <td>0.140647</td>\n",
       "      <td>0.036242</td>\n",
       "      <td>0.292695</td>\n",
       "    </tr>\n",
       "    <tr>\n",
       "      <th>DiabetesPedigreeFunction</th>\n",
       "      <td>-0.033523</td>\n",
       "      <td>0.137337</td>\n",
       "      <td>0.041265</td>\n",
       "      <td>0.183928</td>\n",
       "      <td>0.185071</td>\n",
       "      <td>0.140647</td>\n",
       "      <td>1.000000</td>\n",
       "      <td>0.033561</td>\n",
       "      <td>0.173844</td>\n",
       "    </tr>\n",
       "    <tr>\n",
       "      <th>Age</th>\n",
       "      <td>0.544341</td>\n",
       "      <td>0.263514</td>\n",
       "      <td>0.239528</td>\n",
       "      <td>-0.113970</td>\n",
       "      <td>-0.042163</td>\n",
       "      <td>0.036242</td>\n",
       "      <td>0.033561</td>\n",
       "      <td>1.000000</td>\n",
       "      <td>0.238356</td>\n",
       "    </tr>\n",
       "    <tr>\n",
       "      <th>Outcome</th>\n",
       "      <td>0.221898</td>\n",
       "      <td>0.466581</td>\n",
       "      <td>0.065068</td>\n",
       "      <td>0.074752</td>\n",
       "      <td>0.130548</td>\n",
       "      <td>0.292695</td>\n",
       "      <td>0.173844</td>\n",
       "      <td>0.238356</td>\n",
       "      <td>1.000000</td>\n",
       "    </tr>\n",
       "  </tbody>\n",
       "</table>\n",
       "</div>"
      ],
      "text/plain": [
       "                          Pregnancies   Glucose  BloodPressure  SkinThickness  \\\n",
       "Pregnancies                  1.000000  0.129459       0.141282      -0.081672   \n",
       "Glucose                      0.129459  1.000000       0.152590       0.057328   \n",
       "BloodPressure                0.141282  0.152590       1.000000       0.207371   \n",
       "SkinThickness               -0.081672  0.057328       0.207371       1.000000   \n",
       "Insulin                     -0.073535  0.331357       0.088933       0.436783   \n",
       "BMI                          0.017683  0.221071       0.281805       0.392573   \n",
       "DiabetesPedigreeFunction    -0.033523  0.137337       0.041265       0.183928   \n",
       "Age                          0.544341  0.263514       0.239528      -0.113970   \n",
       "Outcome                      0.221898  0.466581       0.065068       0.074752   \n",
       "\n",
       "                           Insulin       BMI  DiabetesPedigreeFunction  \\\n",
       "Pregnancies              -0.073535  0.017683                 -0.033523   \n",
       "Glucose                   0.331357  0.221071                  0.137337   \n",
       "BloodPressure             0.088933  0.281805                  0.041265   \n",
       "SkinThickness             0.436783  0.392573                  0.183928   \n",
       "Insulin                   1.000000  0.197859                  0.185071   \n",
       "BMI                       0.197859  1.000000                  0.140647   \n",
       "DiabetesPedigreeFunction  0.185071  0.140647                  1.000000   \n",
       "Age                      -0.042163  0.036242                  0.033561   \n",
       "Outcome                   0.130548  0.292695                  0.173844   \n",
       "\n",
       "                               Age   Outcome  \n",
       "Pregnancies               0.544341  0.221898  \n",
       "Glucose                   0.263514  0.466581  \n",
       "BloodPressure             0.239528  0.065068  \n",
       "SkinThickness            -0.113970  0.074752  \n",
       "Insulin                  -0.042163  0.130548  \n",
       "BMI                       0.036242  0.292695  \n",
       "DiabetesPedigreeFunction  0.033561  0.173844  \n",
       "Age                       1.000000  0.238356  \n",
       "Outcome                   0.238356  1.000000  "
      ]
     },
     "execution_count": 37,
     "metadata": {},
     "output_type": "execute_result"
    }
   ],
   "source": [
    "diabetes.corr()"
   ]
  },
  {
   "cell_type": "markdown",
   "id": "7dc22aad",
   "metadata": {},
   "source": [
    "### Create Correlation matrix"
   ]
  },
  {
   "cell_type": "code",
   "execution_count": 38,
   "id": "c560f193",
   "metadata": {},
   "outputs": [
    {
     "data": {
      "text/plain": [
       "<AxesSubplot:>"
      ]
     },
     "execution_count": 38,
     "metadata": {},
     "output_type": "execute_result"
    },
    {
     "data": {
      "image/png": "[encoded data removed]",
      "text/plain": [
       "<Figure size 432x288 with 2 Axes>"
      ]
     },
     "metadata": {
      "needs_background": "light"
     },
     "output_type": "display_data"
    }
   ],
   "source": [
    "sns.heatmap(diabetes.corr())"
   ]
  },
  {
   "cell_type": "code",
   "execution_count": 40,
   "id": "ce24db5e",
   "metadata": {},
   "outputs": [
    {
     "data": {
      "text/plain": [
       "<AxesSubplot:>"
      ]
     },
     "execution_count": 40,
     "metadata": {},
     "output_type": "execute_result"
    },
    {
     "data": {
      "image/png": "[encoded data removed]",
      "text/plain": [
       "<Figure size 576x576 with 2 Axes>"
      ]
     },
     "metadata": {
      "needs_background": "light"
     },
     "output_type": "display_data"
    }
   ],
   "source": [
    "#correlation values\n",
    "plt.subplots(figsize=(8,8))\n",
    "sns.heatmap(diabetes.corr(),annot=True,cmap='viridis')"
   ]
  },
  {
   "cell_type": "markdown",
   "id": "49778354",
   "metadata": {},
   "source": [
    "# Logistic Regression and model building"
   ]
  },
  {
   "cell_type": "code",
   "execution_count": 50,
   "id": "4351e9e1",
   "metadata": {},
   "outputs": [],
   "source": [
    "features=diabetes.iloc[:,[0,1,2,3,4,5,6,7]].values\n",
    "label = diabetes.iloc[:,8].values"
   ]
  },
  {
   "cell_type": "code",
   "execution_count": 56,
   "id": "f231a51d",
   "metadata": {},
   "outputs": [],
   "source": [
    "#train test split\n",
    "from sklearn.model_selection import train_test_split\n",
    "x_train,x_test,y_train,y_test=train_test_split(features,label,test_size=0.2,random_state=10)"
   ]
  },
  {
   "cell_type": "code",
   "execution_count": 62,
   "id": "ae89d23e",
   "metadata": {},
   "outputs": [
    {
     "data": {
      "text/plain": [
       "LogisticRegression()"
      ]
     },
     "execution_count": 62,
     "metadata": {},
     "output_type": "execute_result"
    }
   ],
   "source": [
    "#Create model\n",
    "from sklearn.linear_model import LogisticRegression\n",
    "model = LogisticRegression()\n",
    "model.fit(x_train,y_train) "
   ]
  },
  {
   "cell_type": "code",
   "execution_count": 63,
   "id": "d4acb157",
   "metadata": {},
   "outputs": [
    {
     "name": "stdout",
     "output_type": "stream",
     "text": [
      "0.7719869706840391\n",
      "0.7662337662337663\n"
     ]
    }
   ],
   "source": [
    "print(model.score(x_train,y_train))\n",
    "print(model.score(x_test,y_test))"
   ]
  },
  {
   "cell_type": "code",
   "execution_count": 66,
   "id": "c9d4d0d2",
   "metadata": {},
   "outputs": [
    {
     "data": {
      "text/plain": [
       "array([[446,  54],\n",
       "       [122, 146]], dtype=int64)"
      ]
     },
     "execution_count": 66,
     "metadata": {},
     "output_type": "execute_result"
    }
   ],
   "source": [
    "from sklearn.metrics import confusion_matrix\n",
    "cm = confusion_matrix(label,model.predict(features))\n",
    "cm"
   ]
  },
  {
   "cell_type": "code",
   "execution_count": 69,
   "id": "e87f8a56",
   "metadata": {},
   "outputs": [
    {
     "name": "stdout",
     "output_type": "stream",
     "text": [
      "              precision    recall  f1-score   support\n",
      "\n",
      "           0       0.79      0.89      0.84       500\n",
      "           1       0.73      0.54      0.62       268\n",
      "\n",
      "    accuracy                           0.77       768\n",
      "   macro avg       0.76      0.72      0.73       768\n",
      "weighted avg       0.77      0.77      0.76       768\n",
      "\n"
     ]
    }
   ],
   "source": [
    "from sklearn.metrics import classification_report\n",
    "print(classification_report(label,model.predict(features)))"
   ]
  },
  {
   "cell_type": "code",
   "execution_count": 70,
   "id": "7b203a23",
   "metadata": {},
   "outputs": [],
   "source": [
    "#prepare ROC curve\n",
    "from sklearn.metrics import roc_curve\n",
    "from sklearn.metrics import roc_auc_score "
   ]
  },
  {
   "cell_type": "code",
   "execution_count": 72,
   "id": "49a673d8",
   "metadata": {},
   "outputs": [],
   "source": [
    "#prediction probabilities\n",
    "probs=model.predict_proba(features)"
   ]
  },
  {
   "cell_type": "code",
   "execution_count": 73,
   "id": "45c53365",
   "metadata": {},
   "outputs": [],
   "source": [
    "#the probabilities for positive outcome only\n",
    "probs=probs[:,1]"
   ]
  },
  {
   "cell_type": "code",
   "execution_count": 74,
   "id": "6e607ea2",
   "metadata": {
    "collapsed": true
   },
   "outputs": [
    {
     "data": {
      "text/plain": [
       "array([0.74626079, 0.05980533, 0.74954913, 0.04475079, 0.84667947,\n",
       "       0.13561406, 0.06908504, 0.51757481, 0.7925549 , 0.05764729,\n",
       "       0.18512677, 0.84230816, 0.72550171, 0.68224035, 0.66044143,\n",
       "       0.30907795, 0.37941876, 0.16338952, 0.36254262, 0.24448128,\n",
       "       0.37180579, 0.2799827 , 0.92111741, 0.29215014, 0.70429416,\n",
       "       0.42895637, 0.68610601, 0.04606899, 0.56548692, 0.24895775,\n",
       "       0.46870651, 0.56019528, 0.04633534, 0.03558089, 0.44202224,\n",
       "       0.1502918 , 0.56810678, 0.39416048, 0.17689019, 0.58608082,\n",
       "       0.73738107, 0.59955532, 0.13962446, 0.91114077, 0.60034255,\n",
       "       0.93300131, 0.39744369, 0.03973487, 0.3458059 , 0.04025176,\n",
       "       0.03855861, 0.08633877, 0.06999424, 0.84733829, 0.69930139,\n",
       "       0.02309724, 0.88396915, 0.36801912, 0.76824644, 0.18983874,\n",
       "       0.01171719, 0.46307679, 0.0202339 , 0.31931639, 0.31489549,\n",
       "       0.12864663, 0.21589134, 0.43312036, 0.03646418, 0.32002367,\n",
       "       0.1686699 , 0.36665615, 0.7127215 , 0.21903609, 0.05424583,\n",
       "       0.00217155, 0.06301533, 0.20652767, 0.58471126, 0.10918195,\n",
       "       0.10406749, 0.00738943, 0.12535139, 0.06125908, 0.59907621,\n",
       "       0.18496128, 0.54478601, 0.17427195, 0.74395527, 0.08315059,\n",
       "       0.0193561 , 0.24307664, 0.31710665, 0.35166468, 0.24263389,\n",
       "       0.51816972, 0.08805455, 0.01903469, 0.12345354, 0.4628508 ,\n",
       "       0.77462315, 0.27055069, 0.06582443, 0.03426121, 0.16119776,\n",
       "       0.23333287, 0.02224464, 0.45199358, 0.10418409, 0.09574112,\n",
       "       0.6109376 , 0.67622278, 0.06256433, 0.07007086, 0.73167303,\n",
       "       0.58165433, 0.32416248, 0.10863266, 0.11000217, 0.05255271,\n",
       "       0.87520211, 0.27758758, 0.14699077, 0.42548357, 0.12112487,\n",
       "       0.45606007, 0.42185132, 0.20869785, 0.21758131, 0.18830975,\n",
       "       0.62106957, 0.54886072, 0.68302582, 0.24955964, 0.05530335,\n",
       "       0.24924234, 0.09715377, 0.06912427, 0.2352505 , 0.16087402,\n",
       "       0.21178463, 0.32102829, 0.16577956, 0.322885  , 0.4503013 ,\n",
       "       0.01130466, 0.07014888, 0.28250795, 0.66458345, 0.04758383,\n",
       "       0.3796701 , 0.13619153, 0.80647432, 0.49220093, 0.94481276,\n",
       "       0.86585561, 0.07848256, 0.1168991 , 0.0499895 , 0.95614864,\n",
       "       0.48849614, 0.32630804, 0.22164041, 0.10193724, 0.25549814,\n",
       "       0.21548917, 0.43913064, 0.2714912 , 0.19244965, 0.11780685,\n",
       "       0.13842286, 0.46849288, 0.17233237, 0.17139749, 0.05620209,\n",
       "       0.867371  , 0.11277778, 0.73355003, 0.71256443, 0.55936395,\n",
       "       0.04468971, 0.23583439, 0.00210874, 0.0412806 , 0.34707123,\n",
       "       0.94268089, 0.85596305, 0.38340299, 0.23593945, 0.35480542,\n",
       "       0.07205097, 0.49447578, 0.63782064, 0.93716701, 0.10789433,\n",
       "       0.67034326, 0.06049905, 0.09881773, 0.31809593, 0.37323092,\n",
       "       0.15416076, 0.38198487, 0.14670526, 0.04605228, 0.36082897,\n",
       "       0.13924684, 0.94865308, 0.69694998, 0.0923244 , 0.88167384,\n",
       "       0.05173704, 0.59301142, 0.87399817, 0.49114826, 0.29686015,\n",
       "       0.8582589 , 0.28186264, 0.32673874, 0.14774342, 0.33631923,\n",
       "       0.65637811, 0.7178696 , 0.36533617, 0.68592627, 0.07193718,\n",
       "       0.0635302 , 0.09916832, 0.76746164, 0.92965181, 0.28630376,\n",
       "       0.57416409, 0.63848976, 0.03319149, 0.29781121, 0.04441901,\n",
       "       0.80874293, 0.8780065 , 0.81672907, 0.75568052, 0.04337431,\n",
       "       0.06116384, 0.10945085, 0.25912135, 0.38301249, 0.48689667,\n",
       "       0.91674083, 0.40277709, 0.6345258 , 0.36636214, 0.09594539,\n",
       "       0.32036513, 0.16520092, 0.03672017, 0.08679297, 0.22627331,\n",
       "       0.21511334, 0.2532771 , 0.13011505, 0.64375652, 0.87637174,\n",
       "       0.76759205, 0.58580722, 0.14865291, 0.56888163, 0.28118613,\n",
       "       0.2631354 , 0.623898  , 0.57809797, 0.0529932 , 0.47941032,\n",
       "       0.63838704, 0.08581442, 0.14537545, 0.04827403, 0.44536238,\n",
       "       0.27677622, 0.17553083, 0.08284832, 0.28384976, 0.08992323,\n",
       "       0.43920575, 0.53716249, 0.35470116, 0.62955066, 0.14469962,\n",
       "       0.48373938, 0.59823593, 0.41675471, 0.06202328, 0.28005227,\n",
       "       0.05546758, 0.22301438, 0.58971525, 0.46910977, 0.5518666 ,\n",
       "       0.67580181, 0.28231808, 0.15966245, 0.41772514, 0.32964484,\n",
       "       0.78476032, 0.40738311, 0.10239522, 0.45214298, 0.26570308,\n",
       "       0.31079172, 0.68474131, 0.13070427, 0.30210855, 0.30904122,\n",
       "       0.0928121 , 0.19954342, 0.36076028, 0.19269658, 0.50034424,\n",
       "       0.17915489, 0.04303943, 0.67505571, 0.27190993, 0.81207073,\n",
       "       0.24169492, 0.16868453, 0.18597496, 0.72524331, 0.18106071,\n",
       "       0.27040331, 0.31472593, 0.85073585, 0.20449674, 0.19599482,\n",
       "       0.44112552, 0.07503316, 0.92764055, 0.1841006 , 0.04761742,\n",
       "       0.73482148, 0.51434376, 0.25965385, 0.72598374, 0.8603995 ,\n",
       "       0.15526384, 0.08534865, 0.00397985, 0.274643  , 0.35438684,\n",
       "       0.57537531, 0.33568096, 0.18120805, 0.05983722, 0.01315622,\n",
       "       0.16387721, 0.29548513, 0.06080396, 0.06215237, 0.15314482,\n",
       "       0.72524674, 0.38857499, 0.89165783, 0.3434967 , 0.85828704,\n",
       "       0.79088083, 0.69392204, 0.39450439, 0.76330564, 0.44558727,\n",
       "       0.22054546, 0.22785658, 0.04331944, 0.03408078, 0.27822842,\n",
       "       0.85941084, 0.04274371, 0.07977113, 0.17906597, 0.41589824,\n",
       "       0.80042421, 0.04011282, 0.12119929, 0.77064817, 0.23698764,\n",
       "       0.15485414, 0.04667156, 0.09939381, 0.08755481, 0.11965403,\n",
       "       0.09813094, 0.33971729, 0.43809346, 0.55621499, 0.17789037,\n",
       "       0.14737756, 0.80121848, 0.09542496, 0.13739207, 0.61508002,\n",
       "       0.32565372, 0.15184883, 0.29125263, 0.02894638, 0.83057797,\n",
       "       0.10970893, 0.40593666, 0.46306208, 0.10198829, 0.70448484,\n",
       "       0.45537711, 0.23362492, 0.04764396, 0.89986878, 0.73167912,\n",
       "       0.25297419, 0.17390563, 0.51025195, 0.2151449 , 0.35050665,\n",
       "       0.52125978, 0.1092576 , 0.64618935, 0.02565467, 0.20755443,\n",
       "       0.35968212, 0.06159212, 0.21473554, 0.17678717, 0.77563506,\n",
       "       0.78256624, 0.01486673, 0.75572525, 0.35557367, 0.11626684,\n",
       "       0.08730405, 0.10298216, 0.04238106, 0.2026461 , 0.0930305 ,\n",
       "       0.66068395, 0.72267433, 0.41483245, 0.02894955, 0.26307436,\n",
       "       0.77229285, 0.07118353, 0.21631915, 0.29607249, 0.22511908,\n",
       "       0.98702066, 0.07571274, 0.11412956, 0.14570395, 0.14575348,\n",
       "       0.02499666, 0.24269333, 0.11267532, 0.47271431, 0.19847881,\n",
       "       0.90327671, 0.47757952, 0.08380032, 0.84047629, 0.69534905,\n",
       "       0.31976333, 0.02002008, 0.19030634, 0.09434435, 0.23552129,\n",
       "       0.10214486, 0.0299787 , 0.15449046, 0.48374881, 0.80058161,\n",
       "       0.60375242, 0.30130296, 0.25932638, 0.41860688, 0.13550513,\n",
       "       0.36214097, 0.17872062, 0.1548891 , 0.31399379, 0.47692453,\n",
       "       0.56562747, 0.22950516, 0.07318965, 0.06640474, 0.78264459,\n",
       "       0.4160728 , 0.39195533, 0.92296057, 0.08658344, 0.90893457,\n",
       "       0.11359849, 0.11411299, 0.17223718, 0.41999435, 0.0104549 ,\n",
       "       0.74040064, 0.12989501, 0.05414703, 0.85956259, 0.62874182,\n",
       "       0.08449279, 0.11883061, 0.02194645, 0.26708025, 0.21405081,\n",
       "       0.10617288, 0.70731414, 0.22199446, 0.09807598, 0.36864541,\n",
       "       0.21588028, 0.12248692, 0.15358699, 0.06207235, 0.07365126,\n",
       "       0.53116338, 0.67905014, 0.49740896, 0.16959529, 0.21297039,\n",
       "       0.02282427, 0.2356566 , 0.04867195, 0.59072337, 0.21961139,\n",
       "       0.0441823 , 0.03178669, 0.09909626, 0.14495155, 0.10852837,\n",
       "       0.21899529, 0.26866962, 0.23432548, 0.22454149, 0.11371984,\n",
       "       0.47986531, 0.10167533, 0.03878535, 0.28517883, 0.45144797,\n",
       "       0.39369075, 0.27657076, 0.40046422, 0.09464247, 0.07347918,\n",
       "       0.84284426, 0.95510717, 0.2868939 , 0.69043645, 0.76834874,\n",
       "       0.11814796, 0.0858291 , 0.28939048, 0.06820641, 0.09905333,\n",
       "       0.22959885, 0.17540198, 0.28330007, 0.60331463, 0.13215495,\n",
       "       0.42213937, 0.87046443, 0.10935676, 0.14699852, 0.07246613,\n",
       "       0.0819598 , 0.15857016, 0.17275038, 0.54795185, 0.21859692,\n",
       "       0.07310095, 0.09228357, 0.1727027 , 0.10552028, 0.27696101,\n",
       "       0.31651327, 0.2187235 , 0.32527338, 0.38901594, 0.96695559,\n",
       "       0.564511  , 0.1509453 , 0.49033998, 0.2874283 , 0.3049186 ,\n",
       "       0.04754068, 0.59301289, 0.09831039, 0.85052575, 0.03510734,\n",
       "       0.76498209, 0.22943262, 0.40203461, 0.12836922, 0.41103338,\n",
       "       0.64908222, 0.10020565, 0.09402994, 0.67954774, 0.10076338,\n",
       "       0.08366974, 0.1415581 , 0.17938327, 0.7697849 , 0.83875536,\n",
       "       0.32232421, 0.83005185, 0.0415197 , 0.4979637 , 0.06183898,\n",
       "       0.13240512, 0.74738362, 0.81852039, 0.24901924, 0.73334828,\n",
       "       0.08191198, 0.14369447, 0.01591936, 0.47839568, 0.26533329,\n",
       "       0.20965336, 0.12492837, 0.93864866, 0.14779297, 0.10373845,\n",
       "       0.15373234, 0.09963052, 0.20201949, 0.37860435, 0.06013118,\n",
       "       0.26295662, 0.11094972, 0.10268655, 0.10890845, 0.11038354,\n",
       "       0.32286282, 0.16532631, 0.0929151 , 0.36078302, 0.03663103,\n",
       "       0.08373826, 0.28717492, 0.50875812, 0.18060628, 0.1214612 ,\n",
       "       0.50059927, 0.40592388, 0.76362511, 0.48525349, 0.08329009,\n",
       "       0.04927929, 0.22381777, 0.32362023, 0.17377685, 0.11289746,\n",
       "       0.46930412, 0.05762881, 0.48060145, 0.55234898, 0.12868494,\n",
       "       0.69947155, 0.95079634, 0.75297418, 0.75761773, 0.39789957,\n",
       "       0.15860824, 0.664267  , 0.2791645 , 0.25376215, 0.66067222,\n",
       "       0.80119379, 0.07330611, 0.1071533 , 0.62183864, 0.35425686,\n",
       "       0.8281483 , 0.5777619 , 0.09013025, 0.26804516, 0.06449209,\n",
       "       0.01699033, 0.80207232, 0.19639142, 0.26017302, 0.13519749,\n",
       "       0.26634908, 0.15063719, 0.12780517, 0.22401297, 0.70020641,\n",
       "       0.18284658, 0.81795205, 0.38754662, 0.63513993, 0.04064617,\n",
       "       0.31861297, 0.55489489, 0.09580684, 0.2780574 , 0.48852111,\n",
       "       0.24664142, 0.41379636, 0.80865626, 0.62307746, 0.11264283,\n",
       "       0.14138472, 0.08090447, 0.22293867, 0.73575849, 0.15580038,\n",
       "       0.3721989 , 0.34715653, 0.73618222, 0.14602099, 0.0961844 ,\n",
       "       0.88097064, 0.76406391, 0.22042721, 0.19102036, 0.28975845,\n",
       "       0.06749608, 0.19969411, 0.44478729, 0.37639326, 0.15891115,\n",
       "       0.36940775, 0.19821613, 0.29994454, 0.37294026, 0.06795287,\n",
       "       0.24953388, 0.17696732, 0.81312881, 0.11413024, 0.13386325,\n",
       "       0.18124527, 0.13074781, 0.10810963, 0.13387121, 0.21239642,\n",
       "       0.72295973, 0.15334831, 0.09569539, 0.5949206 , 0.89430676,\n",
       "       0.30161529, 0.68832841, 0.27470742, 0.82160581, 0.59604337,\n",
       "       0.42403448, 0.29743234, 0.11457426, 0.67631569, 0.73747244,\n",
       "       0.45165924, 0.5166885 , 0.34388421, 0.14084322, 0.91090854,\n",
       "       0.08917395, 0.92450038, 0.07582493, 0.39246462, 0.31461246,\n",
       "       0.17782099, 0.30300757, 0.07969036])"
      ]
     },
     "execution_count": 74,
     "metadata": {},
     "output_type": "execute_result"
    }
   ],
   "source": [
    "probs"
   ]
  },
  {
   "cell_type": "code",
   "execution_count": 76,
   "id": "82f0e547",
   "metadata": {},
   "outputs": [
    {
     "name": "stdout",
     "output_type": "stream",
     "text": [
      "AUC:%.3f 0.8365149253731343\n"
     ]
    }
   ],
   "source": [
    "#calculate AUC\n",
    "auc=roc_auc_score(label,probs)\n",
    "print(\"AUC:%.3f\",auc)"
   ]
  },
  {
   "cell_type": "code",
   "execution_count": 77,
   "id": "a97b91c9",
   "metadata": {
    "scrolled": true
   },
   "outputs": [
    {
     "name": "stdout",
     "output_type": "stream",
     "text": [
      "True Positive Rate - [0.         0.00373134 0.02985075 0.02985075 0.03731343 0.03731343\n",
      " 0.04477612 0.04477612 0.05970149 0.05970149 0.06716418 0.06716418\n",
      " 0.09328358 0.09328358 0.12686567 0.12686567 0.20522388 0.20522388\n",
      " 0.24626866 0.24626866 0.29477612 0.29477612 0.29850746 0.29850746\n",
      " 0.30597015 0.30597015 0.32462687 0.32462687 0.3358209  0.3358209\n",
      " 0.34328358 0.34328358 0.35820896 0.35820896 0.3619403  0.3619403\n",
      " 0.36940299 0.36940299 0.39552239 0.39552239 0.40298507 0.40298507\n",
      " 0.41044776 0.41044776 0.42537313 0.42537313 0.44029851 0.44029851\n",
      " 0.44402985 0.44402985 0.44776119 0.44776119 0.45895522 0.45895522\n",
      " 0.46268657 0.46268657 0.4738806  0.4738806  0.49626866 0.49626866\n",
      " 0.5        0.5        0.50373134 0.50373134 0.50746269 0.50746269\n",
      " 0.5261194  0.5261194  0.52985075 0.52985075 0.53731343 0.53731343\n",
      " 0.54104478 0.54104478 0.54477612 0.54477612 0.54850746 0.54850746\n",
      " 0.55597015 0.55597015 0.56716418 0.56716418 0.57462687 0.57462687\n",
      " 0.59328358 0.59328358 0.59701493 0.59701493 0.60447761 0.60447761\n",
      " 0.60820896 0.60820896 0.6119403  0.6119403  0.61567164 0.61567164\n",
      " 0.61940299 0.61940299 0.62686567 0.62686567 0.63059701 0.63059701\n",
      " 0.64179104 0.64179104 0.64552239 0.64552239 0.64925373 0.64925373\n",
      " 0.65298507 0.65298507 0.6641791  0.6641791  0.67164179 0.67164179\n",
      " 0.67537313 0.67537313 0.68283582 0.68283582 0.68656716 0.68656716\n",
      " 0.69029851 0.69029851 0.69776119 0.69776119 0.70149254 0.70149254\n",
      " 0.70895522 0.70895522 0.71641791 0.71641791 0.7238806  0.7238806\n",
      " 0.73134328 0.73134328 0.73880597 0.73880597 0.74626866 0.74626866\n",
      " 0.75373134 0.75373134 0.77238806 0.77238806 0.77985075 0.77985075\n",
      " 0.79104478 0.79104478 0.80223881 0.80223881 0.80970149 0.80970149\n",
      " 0.81343284 0.81343284 0.81716418 0.81716418 0.82089552 0.82089552\n",
      " 0.83208955 0.83208955 0.83955224 0.83955224 0.84328358 0.84328358\n",
      " 0.84701493 0.84701493 0.85074627 0.85074627 0.85447761 0.85447761\n",
      " 0.85820896 0.85820896 0.86940299 0.86940299 0.87313433 0.87313433\n",
      " 0.88059701 0.88059701 0.89179104 0.89179104 0.89552239 0.89552239\n",
      " 0.89925373 0.89925373 0.90298507 0.90298507 0.90671642 0.90671642\n",
      " 0.9141791  0.9141791  0.91791045 0.91791045 0.92537313 0.92537313\n",
      " 0.92910448 0.92910448 0.93656716 0.93656716 0.94029851 0.94029851\n",
      " 0.94402985 0.94402985 0.94776119 0.94776119 0.95149254 0.95149254\n",
      " 0.95522388 0.95522388 0.95895522 0.95895522 0.96268657 0.96268657\n",
      " 0.96641791 0.96641791 0.97014925 0.97014925 0.9738806  0.9738806\n",
      " 0.97761194 0.97761194 0.98134328 0.98134328 0.98507463 0.98507463\n",
      " 0.98880597 0.98880597 0.99253731 0.99253731 0.99626866 0.99626866\n",
      " 1.         1.        ], False Positive Rate - [0.    0.    0.    0.002 0.002 0.004 0.004 0.006 0.006 0.008 0.008 0.01\n",
      " 0.01  0.012 0.012 0.014 0.014 0.018 0.018 0.024 0.024 0.026 0.026 0.028\n",
      " 0.028 0.03  0.03  0.032 0.032 0.034 0.034 0.036 0.036 0.04  0.04  0.046\n",
      " 0.046 0.048 0.048 0.05  0.05  0.052 0.052 0.054 0.054 0.056 0.056 0.058\n",
      " 0.058 0.06  0.06  0.064 0.064 0.072 0.072 0.074 0.074 0.076 0.076 0.078\n",
      " 0.078 0.08  0.08  0.084 0.084 0.086 0.086 0.09  0.09  0.096 0.096 0.106\n",
      " 0.106 0.108 0.108 0.116 0.116 0.124 0.124 0.128 0.128 0.134 0.134 0.136\n",
      " 0.136 0.138 0.138 0.14  0.14  0.146 0.146 0.15  0.15  0.152 0.152 0.154\n",
      " 0.154 0.156 0.156 0.158 0.158 0.16  0.16  0.164 0.164 0.166 0.166 0.168\n",
      " 0.168 0.17  0.17  0.174 0.174 0.18  0.18  0.182 0.182 0.186 0.186 0.19\n",
      " 0.19  0.214 0.214 0.218 0.218 0.224 0.224 0.228 0.228 0.23  0.23  0.24\n",
      " 0.24  0.242 0.242 0.254 0.254 0.258 0.258 0.264 0.264 0.274 0.274 0.276\n",
      " 0.276 0.294 0.294 0.298 0.298 0.306 0.306 0.32  0.32  0.326 0.326 0.33\n",
      " 0.33  0.332 0.332 0.34  0.34  0.348 0.348 0.35  0.35  0.356 0.356 0.366\n",
      " 0.366 0.374 0.374 0.38  0.38  0.398 0.398 0.4   0.4   0.402 0.402 0.408\n",
      " 0.408 0.414 0.414 0.416 0.416 0.442 0.442 0.464 0.464 0.468 0.468 0.47\n",
      " 0.47  0.49  0.49  0.498 0.498 0.51  0.51  0.54  0.54  0.552 0.552 0.556\n",
      " 0.556 0.568 0.568 0.594 0.594 0.612 0.612 0.622 0.622 0.648 0.648 0.706\n",
      " 0.706 0.72  0.72  0.782 0.782 0.82  0.82  0.862 0.862 0.972 0.972 0.986\n",
      " 0.986 1.   ] Thresholds - [1.98702066 0.98702066 0.94268089 0.93864866 0.93300131 0.92965181\n",
      " 0.92450038 0.92296057 0.91090854 0.90893457 0.89986878 0.89430676\n",
      " 0.87520211 0.87399817 0.85596305 0.85073585 0.80121848 0.80058161\n",
      " 0.7697849  0.76759205 0.74395527 0.74040064 0.73747244 0.73738107\n",
      " 0.73575849 0.73482148 0.72598374 0.72550171 0.72295973 0.72267433\n",
      " 0.7127215  0.71256443 0.70020641 0.69930139 0.69694998 0.69043645\n",
      " 0.68610601 0.68592627 0.67622278 0.67580181 0.67034326 0.66458345\n",
      " 0.66068395 0.66067222 0.64618935 0.64375652 0.63513993 0.6345258\n",
      " 0.62955066 0.62874182 0.623898   0.62183864 0.6109376  0.59955532\n",
      " 0.59907621 0.59823593 0.59301289 0.59301142 0.58165433 0.57809797\n",
      " 0.5777619  0.57537531 0.57416409 0.56810678 0.56562747 0.56548692\n",
      " 0.55489489 0.5518666  0.54886072 0.53716249 0.52125978 0.51025195\n",
      " 0.50875812 0.50059927 0.50034424 0.49220093 0.49114826 0.48689667\n",
      " 0.48374881 0.48060145 0.47839568 0.47271431 0.46910977 0.46870651\n",
      " 0.45606007 0.45537711 0.45214298 0.45199358 0.45144797 0.44536238\n",
      " 0.44478729 0.44112552 0.43920575 0.43913064 0.43809346 0.43312036\n",
      " 0.42895637 0.42548357 0.42213937 0.42185132 0.41999435 0.41860688\n",
      " 0.4160728  0.41483245 0.41379636 0.41103338 0.40738311 0.40593666\n",
      " 0.40592388 0.40277709 0.39789957 0.39450439 0.39369075 0.38901594\n",
      " 0.38857499 0.38754662 0.38301249 0.3796701  0.37941876 0.37639326\n",
      " 0.37323092 0.36082897 0.36076028 0.35557367 0.35480542 0.35425686\n",
      " 0.35050665 0.34707123 0.34388421 0.3434967  0.33631923 0.32565372\n",
      " 0.32416248 0.32362023 0.32286282 0.31931639 0.31809593 0.31651327\n",
      " 0.31472593 0.31079172 0.30210855 0.29743234 0.29607249 0.29548513\n",
      " 0.28975845 0.28250795 0.28118613 0.2799827  0.27822842 0.27677622\n",
      " 0.27657076 0.26866962 0.26804516 0.26570308 0.26533329 0.26307436\n",
      " 0.25965385 0.25932638 0.25549814 0.24955964 0.24953388 0.24664142\n",
      " 0.24448128 0.24307664 0.24269333 0.23698764 0.23593945 0.23432548\n",
      " 0.23362492 0.22943262 0.22511908 0.22381777 0.22301438 0.2187235\n",
      " 0.21758131 0.21631915 0.21548917 0.2151449  0.21511334 0.21297039\n",
      " 0.21239642 0.20869785 0.20755443 0.20652767 0.20449674 0.18983874\n",
      " 0.18597496 0.17906597 0.17872062 0.17782099 0.17689019 0.17678717\n",
      " 0.17553083 0.16959529 0.1686699  0.16387721 0.16338952 0.15857016\n",
      " 0.15580038 0.14779297 0.14774342 0.14575348 0.14570395 0.14495155\n",
      " 0.14469962 0.13924684 0.13842286 0.12989501 0.12868494 0.12119929\n",
      " 0.12112487 0.1168991  0.11626684 0.11000217 0.10970893 0.09905333\n",
      " 0.09881773 0.09580684 0.09574112 0.08191198 0.08090447 0.06912427\n",
      " 0.06908504 0.05980533 0.05764729 0.02224464 0.02194645 0.01486673\n",
      " 0.01315622 0.00210874]\n"
     ]
    },
    {
     "data": {
      "text/plain": [
       "Text(0, 0.5, 'True Positive Rate')"
      ]
     },
     "execution_count": 77,
     "metadata": {},
     "output_type": "execute_result"
    },
    {
     "data": {
      "image/png": "[encoded data removed]",
      "text/plain": [
       "<Figure size 432x288 with 1 Axes>"
      ]
     },
     "metadata": {
      "needs_background": "light"
     },
     "output_type": "display_data"
    }
   ],
   "source": [
    "# calculate roc curve\n",
    "fpr, tpr, thresholds = roc_curve(label, probs)\n",
    "print(\"True Positive Rate - {}, False Positive Rate - {} Thresholds - {}\".format(tpr,fpr,thresholds))\n",
    "# plot no skill\n",
    "plt.plot([0, 1], [0, 1], linestyle='--')\n",
    "# plot the roc curve for the model\n",
    "plt.plot(fpr, tpr, marker='.')\n",
    "plt.xlabel(\"False Positive Rate\")\n",
    "plt.ylabel(\"True Positive Rate\")"
   ]
  },
  {
   "cell_type": "code",
   "execution_count": 78,
   "id": "2e6415e5",
   "metadata": {
    "collapsed": true
   },
   "outputs": [
    {
     "name": "stdout",
     "output_type": "stream",
     "text": [
      "f1=0.624 auc=0.726 ap=0.727\n"
     ]
    },
    {
     "data": {
      "text/plain": [
       "[<matplotlib.lines.Line2D at 0x16fc8c810a0>]"
      ]
     },
     "execution_count": 78,
     "metadata": {},
     "output_type": "execute_result"
    },
    {
     "data": {
      "image/png": "[encoded data removed]",
      "text/plain": [
       "<Figure size 432x288 with 1 Axes>"
      ]
     },
     "metadata": {
      "needs_background": "light"
     },
     "output_type": "display_data"
    }
   ],
   "source": [
    "#Precision Recall Curve for Logistic Regression\n",
    "\n",
    "from sklearn.metrics import precision_recall_curve\n",
    "from sklearn.metrics import f1_score\n",
    "from sklearn.metrics import auc\n",
    "from sklearn.metrics import average_precision_score\n",
    "# predict probabilities\n",
    "probs = model.predict_proba(features)\n",
    "# keep probabilities for the positive outcome only\n",
    "probs = probs[:, 1]\n",
    "# predict class values\n",
    "yhat = model.predict(features)\n",
    "# calculate precision-recall curve\n",
    "precision, recall, thresholds = precision_recall_curve(label, probs)\n",
    "# calculate F1 score\n",
    "f1 = f1_score(label, yhat)\n",
    "# calculate precision-recall AUC\n",
    "auc = auc(recall, precision)\n",
    "# calculate average precision score\n",
    "ap = average_precision_score(label, probs)\n",
    "print('f1=%.3f auc=%.3f ap=%.3f' % (f1, auc, ap))\n",
    "# plot no skill\n",
    "plt.plot([0, 1], [0.5, 0.5], linestyle='--')\n",
    "# plot the precision-recall curve for the model\n",
    "plt.plot(recall, precision, marker='.')"
   ]
  },
  {
   "cell_type": "code",
   "execution_count": 81,
   "id": "224902b1",
   "metadata": {},
   "outputs": [
    {
     "data": {
      "text/plain": [
       "DecisionTreeClassifier(max_depth=5)"
      ]
     },
     "execution_count": 81,
     "metadata": {},
     "output_type": "execute_result"
    }
   ],
   "source": [
    "#Applying Decission Tree Classifier\n",
    "from sklearn.tree import DecisionTreeClassifier\n",
    "model3 = DecisionTreeClassifier(max_depth=5)\n",
    "model3.fit(x_train,y_train)"
   ]
  },
  {
   "cell_type": "code",
   "execution_count": 85,
   "id": "831f438e",
   "metadata": {},
   "outputs": [
    {
     "data": {
      "text/plain": [
       "0.8289902280130294"
      ]
     },
     "execution_count": 85,
     "metadata": {},
     "output_type": "execute_result"
    }
   ],
   "source": [
    "model3.score(x_train,y_train)"
   ]
  },
  {
   "cell_type": "code",
   "execution_count": 84,
   "id": "aa44b54f",
   "metadata": {},
   "outputs": [
    {
     "data": {
      "text/plain": [
       "0.7727272727272727"
      ]
     },
     "execution_count": 84,
     "metadata": {},
     "output_type": "execute_result"
    }
   ],
   "source": [
    "model3.score(x_test,y_test)"
   ]
  },
  {
   "cell_type": "code",
   "execution_count": 86,
   "id": "bf8106c9",
   "metadata": {},
   "outputs": [
    {
     "data": {
      "text/plain": [
       "RandomForestClassifier(n_estimators=11)"
      ]
     },
     "execution_count": 86,
     "metadata": {},
     "output_type": "execute_result"
    }
   ],
   "source": [
    "#Applying Random Forest\n",
    "from sklearn.ensemble import RandomForestClassifier\n",
    "model4 = RandomForestClassifier(n_estimators=11)\n",
    "model4.fit(x_train,y_train)"
   ]
  },
  {
   "cell_type": "code",
   "execution_count": 87,
   "id": "da4144d0",
   "metadata": {},
   "outputs": [
    {
     "data": {
      "text/plain": [
       "0.990228013029316"
      ]
     },
     "execution_count": 87,
     "metadata": {},
     "output_type": "execute_result"
    }
   ],
   "source": [
    "model4.score(x_train,y_train)"
   ]
  },
  {
   "cell_type": "code",
   "execution_count": 88,
   "id": "67e5b8ea",
   "metadata": {
    "scrolled": true
   },
   "outputs": [
    {
     "data": {
      "text/plain": [
       "0.7402597402597403"
      ]
     },
     "execution_count": 88,
     "metadata": {},
     "output_type": "execute_result"
    }
   ],
   "source": [
    "model4.score(x_test,y_test)"
   ]
  },
  {
   "cell_type": "code",
   "execution_count": 89,
   "id": "9bddba7e",
   "metadata": {},
   "outputs": [
    {
     "data": {
      "text/plain": [
       "SVC(gamma='auto')"
      ]
     },
     "execution_count": 89,
     "metadata": {},
     "output_type": "execute_result"
    }
   ],
   "source": [
    "#Support Vector Classifier\n",
    "\n",
    "from sklearn.svm import SVC \n",
    "model5 = SVC(kernel='rbf',\n",
    "           gamma='auto')\n",
    "model5.fit(x_train,y_train)"
   ]
  },
  {
   "cell_type": "code",
   "execution_count": 91,
   "id": "4f49e9f0",
   "metadata": {},
   "outputs": [
    {
     "data": {
      "text/plain": [
       "0.6168831168831169"
      ]
     },
     "execution_count": 91,
     "metadata": {},
     "output_type": "execute_result"
    }
   ],
   "source": [
    "model5.score(x_test,y_test)"
   ]
  },
  {
   "cell_type": "code",
   "execution_count": 92,
   "id": "27934063",
   "metadata": {},
   "outputs": [
    {
     "data": {
      "text/plain": [
       "KNeighborsClassifier(n_neighbors=7)"
      ]
     },
     "execution_count": 92,
     "metadata": {},
     "output_type": "execute_result"
    }
   ],
   "source": [
    "#Applying K-NN\n",
    "from sklearn.neighbors import KNeighborsClassifier\n",
    "model2 = KNeighborsClassifier(n_neighbors=7,\n",
    "                             metric='minkowski',\n",
    "                             p = 2)\n",
    "model2.fit(x_train,y_train)"
   ]
  },
  {
   "cell_type": "code",
   "execution_count": 93,
   "id": "c02b8c1b",
   "metadata": {},
   "outputs": [
    {
     "name": "stdout",
     "output_type": "stream",
     "text": [
      "AUC: 0.836\n",
      "True Positive Rate - [0.         0.06716418 0.23880597 0.44776119 0.60074627 0.75373134\n",
      " 0.88059701 0.98507463 1.        ], False Positive Rate - [0.    0.    0.02  0.056 0.12  0.248 0.428 0.668 1.   ] Thresholds - [2.         1.         0.85714286 0.71428571 0.57142857 0.42857143\n",
      " 0.28571429 0.14285714 0.        ]\n"
     ]
    },
    {
     "data": {
      "text/plain": [
       "Text(0, 0.5, 'True Positive Rate')"
      ]
     },
     "execution_count": 93,
     "metadata": {},
     "output_type": "execute_result"
    },
    {
     "data": {
      "image/png": "[encoded data removed]",
      "text/plain": [
       "<Figure size 432x288 with 1 Axes>"
      ]
     },
     "metadata": {
      "needs_background": "light"
     },
     "output_type": "display_data"
    }
   ],
   "source": [
    "#Preparing ROC Curve (Receiver Operating Characteristics Curve)\n",
    "from sklearn.metrics import roc_curve\n",
    "from sklearn.metrics import roc_auc_score\n",
    "\n",
    "# predict probabilities\n",
    "probs = model2.predict_proba(features)\n",
    "# keep probabilities for the positive outcome only\n",
    "probs = probs[:, 1]\n",
    "# calculate AUC\n",
    "auc = roc_auc_score(label, probs)\n",
    "print('AUC: %.3f' % auc)\n",
    "# calculate roc curve\n",
    "fpr, tpr, thresholds = roc_curve(label, probs)\n",
    "print(\"True Positive Rate - {}, False Positive Rate - {} Thresholds - {}\".format(tpr,fpr,thresholds))\n",
    "# plot no skill\n",
    "plt.plot([0, 1], [0, 1], linestyle='--')\n",
    "# plot the roc curve for the model\n",
    "plt.plot(fpr, tpr, marker='.')\n",
    "plt.xlabel(\"False Positive Rate\")\n",
    "plt.ylabel(\"True Positive Rate\")"
   ]
  },
  {
   "cell_type": "code",
   "execution_count": 94,
   "id": "f087de6c",
   "metadata": {},
   "outputs": [
    {
     "name": "stdout",
     "output_type": "stream",
     "text": [
      "f1=0.624 auc=0.726 ap=0.727\n"
     ]
    },
    {
     "data": {
      "text/plain": [
       "[<matplotlib.lines.Line2D at 0x16fc8f5c9d0>]"
      ]
     },
     "execution_count": 94,
     "metadata": {},
     "output_type": "execute_result"
    },
    {
     "data": {
      "image/png": "[encoded data removed]",
      "text/plain": [
       "<Figure size 432x288 with 1 Axes>"
      ]
     },
     "metadata": {
      "needs_background": "light"
     },
     "output_type": "display_data"
    }
   ],
   "source": [
    "#Precision Recall Curve for Logistic Regression\n",
    "\n",
    "from sklearn.metrics import precision_recall_curve\n",
    "from sklearn.metrics import f1_score\n",
    "from sklearn.metrics import auc\n",
    "from sklearn.metrics import average_precision_score\n",
    "# predict probabilities\n",
    "probs = model.predict_proba(features)\n",
    "# keep probabilities for the positive outcome only\n",
    "probs = probs[:, 1]\n",
    "# predict class values\n",
    "yhat = model.predict(features)\n",
    "# calculate precision-recall curve\n",
    "precision, recall, thresholds = precision_recall_curve(label, probs)\n",
    "# calculate F1 score\n",
    "f1 = f1_score(label, yhat)\n",
    "# calculate precision-recall AUC\n",
    "auc = auc(recall, precision)\n",
    "# calculate average precision score\n",
    "ap = average_precision_score(label, probs)\n",
    "print('f1=%.3f auc=%.3f ap=%.3f' % (f1, auc, ap))\n",
    "# plot no skill\n",
    "plt.plot([0, 1], [0.5, 0.5], linestyle='--')\n",
    "# plot the precision-recall curve for the model\n",
    "plt.plot(recall, precision, marker='.')"
   ]
  },
  {
   "cell_type": "code",
   "execution_count": 95,
   "id": "0955e639",
   "metadata": {},
   "outputs": [
    {
     "name": "stdout",
     "output_type": "stream",
     "text": [
      "f1=0.658 auc=0.752 ap=0.709\n"
     ]
    },
    {
     "data": {
      "text/plain": [
       "[<matplotlib.lines.Line2D at 0x16fc8fc97f0>]"
      ]
     },
     "execution_count": 95,
     "metadata": {},
     "output_type": "execute_result"
    },
    {
     "data": {
      "image/png": "[encoded data removed]",
      "text/plain": [
       "<Figure size 432x288 with 1 Axes>"
      ]
     },
     "metadata": {
      "needs_background": "light"
     },
     "output_type": "display_data"
    }
   ],
   "source": [
    "#Precision Recall Curve for KNN\n",
    "\n",
    "from sklearn.metrics import precision_recall_curve\n",
    "from sklearn.metrics import f1_score\n",
    "from sklearn.metrics import auc\n",
    "from sklearn.metrics import average_precision_score\n",
    "# predict probabilities\n",
    "probs = model2.predict_proba(features)\n",
    "# keep probabilities for the positive outcome only\n",
    "probs = probs[:, 1]\n",
    "# predict class values\n",
    "yhat = model2.predict(features)\n",
    "# calculate precision-recall curve\n",
    "precision, recall, thresholds = precision_recall_curve(label, probs)\n",
    "# calculate F1 score\n",
    "f1 = f1_score(label, yhat)\n",
    "# calculate precision-recall AUC\n",
    "auc = auc(recall, precision)\n",
    "# calculate average precision score\n",
    "ap = average_precision_score(label, probs)\n",
    "print('f1=%.3f auc=%.3f ap=%.3f' % (f1, auc, ap))\n",
    "# plot no skill\n",
    "plt.plot([0, 1], [0.5, 0.5], linestyle='--')\n",
    "# plot the precision-recall curve for the model\n",
    "plt.plot(recall, precision, marker='.')"
   ]
  },
  {
   "cell_type": "code",
   "execution_count": 96,
   "id": "7c6fe08e",
   "metadata": {},
   "outputs": [
    {
     "name": "stdout",
     "output_type": "stream",
     "text": [
      "f1=0.714 auc=0.815 ap=0.768\n"
     ]
    },
    {
     "data": {
      "text/plain": [
       "[<matplotlib.lines.Line2D at 0x16fc903b5b0>]"
      ]
     },
     "execution_count": 96,
     "metadata": {},
     "output_type": "execute_result"
    },
    {
     "data": {
      "image/png": "[encoded data removed]",
      "text/plain": [
       "<Figure size 432x288 with 1 Axes>"
      ]
     },
     "metadata": {
      "needs_background": "light"
     },
     "output_type": "display_data"
    }
   ],
   "source": [
    "#Precision Recall Curve for Decission Tree Classifier\n",
    "\n",
    "from sklearn.metrics import precision_recall_curve\n",
    "from sklearn.metrics import f1_score\n",
    "from sklearn.metrics import auc\n",
    "from sklearn.metrics import average_precision_score\n",
    "# predict probabilities\n",
    "probs = model3.predict_proba(features)\n",
    "# keep probabilities for the positive outcome only\n",
    "probs = probs[:, 1]\n",
    "# predict class values\n",
    "yhat = model3.predict(features)\n",
    "# calculate precision-recall curve\n",
    "precision, recall, thresholds = precision_recall_curve(label, probs)\n",
    "# calculate F1 score\n",
    "f1 = f1_score(label, yhat)\n",
    "# calculate precision-recall AUC\n",
    "auc = auc(recall, precision)\n",
    "# calculate average precision score\n",
    "ap = average_precision_score(label, probs)\n",
    "print('f1=%.3f auc=%.3f ap=%.3f' % (f1, auc, ap))\n",
    "# plot no skill\n",
    "plt.plot([0, 1], [0.5, 0.5], linestyle='--')\n",
    "# plot the precision-recall curve for the model\n",
    "plt.plot(recall, precision, marker='.')"
   ]
  },
  {
   "cell_type": "code",
   "execution_count": 97,
   "id": "4fe921a2",
   "metadata": {},
   "outputs": [
    {
     "name": "stdout",
     "output_type": "stream",
     "text": [
      "f1=0.913 auc=0.967 ap=0.958\n"
     ]
    },
    {
     "data": {
      "text/plain": [
       "[<matplotlib.lines.Line2D at 0x16fc90a42e0>]"
      ]
     },
     "execution_count": 97,
     "metadata": {},
     "output_type": "execute_result"
    },
    {
     "data": {
      "image/png": "[encoded data removed]",
      "text/plain": [
       "<Figure size 432x288 with 1 Axes>"
      ]
     },
     "metadata": {
      "needs_background": "light"
     },
     "output_type": "display_data"
    }
   ],
   "source": [
    "#Precision Recall Curve for Random Forest\n",
    "\n",
    "from sklearn.metrics import precision_recall_curve\n",
    "from sklearn.metrics import f1_score\n",
    "from sklearn.metrics import auc\n",
    "from sklearn.metrics import average_precision_score\n",
    "# predict probabilities\n",
    "probs = model4.predict_proba(features)\n",
    "# keep probabilities for the positive outcome only\n",
    "probs = probs[:, 1]\n",
    "# predict class values\n",
    "yhat = model4.predict(features)\n",
    "# calculate precision-recall curve\n",
    "precision, recall, thresholds = precision_recall_curve(label, probs)\n",
    "# calculate F1 score\n",
    "f1 = f1_score(label, yhat)\n",
    "# calculate precision-recall AUC\n",
    "auc = auc(recall, precision)\n",
    "# calculate average precision score\n",
    "ap = average_precision_score(label, probs)\n",
    "print('f1=%.3f auc=%.3f ap=%.3f' % (f1, auc, ap))\n",
    "# plot no skill\n",
    "plt.plot([0, 1], [0.5, 0.5], linestyle='--')\n",
    "# plot the precision-recall curve for the model\n",
    "plt.plot(recall, precision, marker='.')"
   ]
  },
  {
   "cell_type": "code",
   "execution_count": null,
   "id": "e808b924",
   "metadata": {},
   "outputs": [],
   "source": []
  }
 ],
 "metadata": {
  "kernelspec": {
   "display_name": "Python 3 (ipykernel)",
   "language": "python",
   "name": "python3"
  },
  "language_info": {
   "codemirror_mode": {
    "name": "ipython",
    "version": 3
   },
   "file_extension": ".py",
   "mimetype": "text/x-python",
   "name": "python",
   "nbconvert_exporter": "python",
   "pygments_lexer": "ipython3",
   "version": "3.9.7"
  }
 },
 "nbformat": 4,
 "nbformat_minor": 5
}
